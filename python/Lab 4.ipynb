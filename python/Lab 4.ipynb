{
 "cells": [
  {
   "cell_type": "code",
   "execution_count": 1,
   "id": "ce3dd373",
   "metadata": {},
   "outputs": [
    {
     "name": "stdout",
     "output_type": "stream",
     "text": [
      "Enter a string: apple\n",
      "Length of the string: 5\n",
      "Occurrences of 'country': 0\n",
      "Word counts:\n",
      "apple: 1\n"
     ]
    }
   ],
   "source": [
    "# 1. Write a program to enter a string. Calculate the length of the string. Find the substring country.\n",
    "# Count the occurrences of each word in the given sentence.\n",
    "def process_string(s):\n",
    "    length = len(s)\n",
    "    count_country = s.lower().count(\"country\")\n",
    "    words = s.split()\n",
    "    word_count = {}\n",
    "    for word in words:\n",
    "        word_count[word] = word_count.get(word, 0) + 1\n",
    "    return length, count_country, word_count\n",
    "\n",
    "input_string = input(\"Enter a string: \")\n",
    "length, count_country, word_count = process_string(input_string)\n",
    "\n",
    "print(f\"Length of the string: {length}\")\n",
    "print(f\"Occurrences of 'country': {count_country}\")\n",
    "print(\"Word counts:\")\n",
    "for word, count in word_count.items():\n",
    "    print(f\"{word}: {count}\")\n"
   ]
  },
  {
   "cell_type": "code",
   "execution_count": 13,
   "id": "0915603f",
   "metadata": {},
   "outputs": [
    {
     "name": "stdout",
     "output_type": "stream",
     "text": [
      "Enter comma-separated words: aple\n",
      "Sorted words: aple\n"
     ]
    }
   ],
   "source": [
    "# 2. Write a program that accepts a comma-separated sequence of words as input and prints the words\n",
    "# in a comma-separated sequence after sorting them alphabetically.\n",
    "def sort_words(input_string):\n",
    "    words = input_string.split(',')\n",
    "    sorted_words = sorted(words)\n",
    "    return ','.join(sorted_words)\n",
    "\n",
    "input_string = input(\"Enter comma-separated words: \")\n",
    "sorted_words = sort_words(input_string)\n",
    "print(\"Sorted words:\", sorted_words)\n"
   ]
  },
  {
   "cell_type": "code",
   "execution_count": 4,
   "id": "5aeb54ff",
   "metadata": {},
   "outputs": [
    {
     "name": "stdout",
     "output_type": "stream",
     "text": [
      "Enter lines of text (press Enter on an empty line to end input):\n",
      "we study at uemk\n",
      "WE STUDY AT UEMK\n",
      "\n"
     ]
    }
   ],
   "source": [
    "# 3. Write a program that accepts a sequence of lines as input and prints the lines after making all\n",
    "# characters in the sentence capitalized.\n",
    "def capitalize_lines():\n",
    "    while True:\n",
    "        line = input()\n",
    "        if not line:\n",
    "            break\n",
    "        print(line.upper())\n",
    "\n",
    "print(\"Enter lines of text (press Enter on an empty line to end input):\")\n",
    "capitalize_lines()\n"
   ]
  },
  {
   "cell_type": "code",
   "execution_count": 5,
   "id": "9aa5c360",
   "metadata": {},
   "outputs": [
    {
     "name": "stdout",
     "output_type": "stream",
     "text": [
      "Enter whitespace-separated words: university of Engineering managemnt\n",
      "Result: Engineering managemnt of university\n"
     ]
    }
   ],
   "source": [
    "# 4. Write a program that accepts a sequence of whitespace-separated words as input and prints the\n",
    "# words after removing all duplicate words and sorting them alphanumerically.\n",
    "def remove_duplicates_and_sort(input_string):\n",
    "    words = input_string.split()\n",
    "    unique_words = sorted(set(words))\n",
    "    return ' '.join(unique_words)\n",
    "\n",
    "input_string = input(\"Enter whitespace-separated words: \")\n",
    "result = remove_duplicates_and_sort(input_string)\n",
    "print(\"Result:\", result)\n"
   ]
  },
  {
   "cell_type": "code",
   "execution_count": 6,
   "id": "c2e5aade",
   "metadata": {},
   "outputs": [
    {
     "name": "stdout",
     "output_type": "stream",
     "text": [
      "Enter a sentence: university of Engineering  & management\n",
      "LETTERS 33\n",
      "DIGITS 0\n"
     ]
    }
   ],
   "source": [
    "# 5. Write a program that accepts a sentence and calculates the number of letters and digits.\n",
    "def count_letters_and_digits(s):\n",
    "    letters = sum(c.isalpha() for c in s)\n",
    "    digits = sum(c.isdigit() for c in s)\n",
    "    return letters, digits\n",
    "\n",
    "input_string = input(\"Enter a sentence: \")\n",
    "letters, digits = count_letters_and_digits(input_string)\n",
    "\n",
    "print(f\"LETTERS {letters}\")\n",
    "print(f\"DIGITS {digits}\")\n"
   ]
  },
  {
   "cell_type": "code",
   "execution_count": 8,
   "id": "b7e60b9d",
   "metadata": {},
   "outputs": [
    {
     "name": "stdout",
     "output_type": "stream",
     "text": [
      "Enter a string: no\n",
      "No\n"
     ]
    }
   ],
   "source": [
    "# 6. Write a program which accepts a string as input to print \"Yes\" if the string is \"yes\" or \"YES\" or\n",
    "# \"Yes\", otherwise print \"No\".\n",
    "def check_yes(s):\n",
    "    if s.lower() == \"yes\":\n",
    "        print(\"Yes\")\n",
    "    else:\n",
    "        print(\"No\")\n",
    "\n",
    "input_string = input(\"Enter a string: \")\n",
    "check_yes(input_string)\n"
   ]
  },
  {
   "cell_type": "code",
   "execution_count": 10,
   "id": "fc6821d2",
   "metadata": {},
   "outputs": [
    {
     "name": "stdout",
     "output_type": "stream",
     "text": [
      "Enter a sequence of words: apple balll 9ball\n",
      "[]\n"
     ]
    }
   ],
   "source": [
    "# 7. Write a program which accepts a sequence of words separated by whitespace as input to print the\n",
    "# words composed of digits only.\n",
    "def extract_digit_words(input_string):\n",
    "    words = input_string.split()\n",
    "    digit_words = [word for word in words if word.isdigit()]\n",
    "    return digit_words\n",
    "\n",
    "input_string = input(\"Enter a sequence of words: \")\n",
    "digit_words = extract_digit_words(input_string)\n",
    "print(digit_words)\n"
   ]
  },
  {
   "cell_type": "code",
   "execution_count": 12,
   "id": "fc42dcd0",
   "metadata": {},
   "outputs": [
    {
     "name": "stdout",
     "output_type": "stream",
     "text": [
      "Enter a string: apple\n",
      "a,1\n",
      "p,2\n",
      "l,1\n",
      "e,1\n"
     ]
    }
   ],
   "source": [
    "# 8. Please write a program which count and print the numbers of each character in a string input by console.\n",
    "from collections import Counter\n",
    "\n",
    "def count_characters(s):\n",
    "    counter = Counter(s)\n",
    "    for char, count in counter.items():\n",
    "        if char.isalpha():\n",
    "            print(f\"{char},{count}\")\n",
    "\n",
    "input_string = input(\"Enter a string: \")\n",
    "count_characters(input_string)\n"
   ]
  },
  {
   "cell_type": "code",
   "execution_count": 14,
   "id": "5ab6eeae",
   "metadata": {},
   "outputs": [
    {
     "name": "stdout",
     "output_type": "stream",
     "text": [
      "Enter a string: apple\n",
      "Enter a substring to check if the string ends with: e\n",
      "Reversed string: elppa\n",
      "Is palindrome: False\n",
      "Ends with substring: True\n",
      "Capitalized string: Apple\n",
      "Is anagram of 'listen': False\n",
      "String without vowels: ppl\n",
      "Length of the longest word: 5\n"
     ]
    }
   ],
   "source": [
    "# 9. Write a program that accepts a string\n",
    "# I. 1. reverses it.\n",
    "# II. 2. checks whether it is a palindrome.\n",
    "# III. 3. checks whether it ends with a specific substring.\n",
    "# IV. 4. capitalizes the first letter of each word in a string\n",
    "# V. 5. checks if a string is an anagram of another string\n",
    "# VI. 6. removes vowels from string\n",
    "# VII. 7. finds length of the longest word in a sentence\n",
    "def string_operations(s, sub_str):\n",
    "    reversed_str = s[::-1]\n",
    "    is_palindrome = s == s[::-1]\n",
    "    ends_with_substring = s.endswith(sub_str)\n",
    "    capitalized_str = s.title()\n",
    "    \n",
    "    def is_anagram(str1, str2):\n",
    "        return sorted(str1) == sorted(str2)\n",
    "    \n",
    "    vowels = \"aeiouAEIOU\"\n",
    "    no_vowels_str = ''.join(c for c in s if c not in vowels)\n",
    "    \n",
    "    words = s.split()\n",
    "    longest_word_length = max(len(word) for word in words) if words else 0\n",
    "    \n",
    "    print(\"Reversed string:\", reversed_str)\n",
    "    print(\"Is palindrome:\", is_palindrome)\n",
    "    print(\"Ends with substring:\", ends_with_substring)\n",
    "    print(\"Capitalized string:\", capitalized_str)\n",
    "    \n",
    "    second_string = \"listen\"\n",
    "    print(\"Is anagram of 'listen':\", is_anagram(s, second_string))\n",
    "    \n",
    "    print(\"String without vowels:\", no_vowels_str)\n",
    "    print(\"Length of the longest word:\", longest_word_length)\n",
    "\n",
    "input_string = input(\"Enter a string: \")\n",
    "substring = input(\"Enter a substring to check if the string ends with: \")\n",
    "string_operations(input_string, substring)\n"
   ]
  },
  {
   "cell_type": "code",
   "execution_count": null,
   "id": "5c7b8135",
   "metadata": {},
   "outputs": [],
   "source": []
  },
  {
   "cell_type": "code",
   "execution_count": null,
   "id": "02b79e36",
   "metadata": {},
   "outputs": [],
   "source": []
  },
  {
   "cell_type": "code",
   "execution_count": null,
   "id": "86987b07",
   "metadata": {},
   "outputs": [],
   "source": []
  }
 ],
 "metadata": {
  "kernelspec": {
   "display_name": "Python 3 (ipykernel)",
   "language": "python",
   "name": "python3"
  },
  "language_info": {
   "codemirror_mode": {
    "name": "ipython",
    "version": 3
   },
   "file_extension": ".py",
   "mimetype": "text/x-python",
   "name": "python",
   "nbconvert_exporter": "python",
   "pygments_lexer": "ipython3",
   "version": "3.9.13"
  }
 },
 "nbformat": 4,
 "nbformat_minor": 5
}
