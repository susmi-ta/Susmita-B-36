{
 "cells": [
  {
   "cell_type": "code",
   "execution_count": 1,
   "id": "1cafec8c",
   "metadata": {},
   "outputs": [
    {
     "name": "stdout",
     "output_type": "stream",
     "text": [
      "Enter month name: september\n",
      "Autumn\n"
     ]
    }
   ],
   "source": [
    "# check season based on month name\n",
    "def check_season(month_name):\n",
    "    month_name = month_name.lower()\n",
    "    \n",
    "    if month_name in ['december', 'january', 'february']:\n",
    "        return 'Winter'\n",
    "    elif month_name in ['march', 'april', 'may']:\n",
    "        return 'Spring'\n",
    "    elif month_name in ['june', 'july', 'august']:\n",
    "        return 'Summer'\n",
    "    elif month_name in ['september', 'october', 'november']:\n",
    "        return 'Autumn'\n",
    "    else:\n",
    "        return 'Invalid month name'\n",
    "\n",
    "month_name = input(\"Enter month name: \")\n",
    "print(check_season(month_name))\n"
   ]
  },
  {
   "cell_type": "code",
   "execution_count": 2,
   "id": "237fc8bf",
   "metadata": {},
   "outputs": [
    {
     "name": "stdout",
     "output_type": "stream",
     "text": [
      "Enter y1: 5\n",
      "Enter y2: 7\n",
      "Enter x1: 9\n",
      "Enter x2: 4\n",
      "-0.4\n"
     ]
    }
   ],
   "source": [
    "#Calculate Slope of a Linear Equation\n",
    "\n",
    "def calculate_slope(y1, y2, x1, x2):\n",
    "    if x2 == x1:\n",
    "        return 'Slope is undefined (division by zero).'\n",
    "    else:\n",
    "        return (y2 - y1) / (x2 - x1)\n",
    "\n",
    "# Get user input\n",
    "y1 = float(input(\"Enter y1: \"))\n",
    "y2 = float(input(\"Enter y2: \"))\n",
    "x1 = float(input(\"Enter x1: \"))\n",
    "x2 = float(input(\"Enter x2: \"))\n",
    "\n",
    "# Print the slope\n",
    "print(calculate_slope(y1, y2, x1, x2))\n"
   ]
  },
  {
   "cell_type": "code",
   "execution_count": 3,
   "id": "63943eac",
   "metadata": {},
   "outputs": [
    {
     "name": "stdout",
     "output_type": "stream",
     "text": [
      "Enter coefficient a: 8\n",
      "Enter coefficient b: 2\n",
      "Enter coefficient c: 4\n",
      "No real roots.\n"
     ]
    }
   ],
   "source": [
    "#quadratic eqn\n",
    "\n",
    "import math\n",
    "\n",
    "def solve_quadratic_eqn(a, b, c):\n",
    "    discriminant = b**2 - 4*a*c\n",
    "    if discriminant > 0:\n",
    "        root1 = (-b + math.sqrt(discriminant)) / (2*a)\n",
    "        root2 = (-b - math.sqrt(discriminant)) / (2*a)\n",
    "        return f\"Roots: {root1}, {root2}\"\n",
    "    elif discriminant == 0:\n",
    "        root = -b / (2*a)\n",
    "        return f\"Root: {root}\"\n",
    "    else:\n",
    "        return \"No real roots.\"\n",
    "\n",
    "# Get user input\n",
    "a = float(input(\"Enter coefficient a: \"))\n",
    "b = float(input(\"Enter coefficient b: \"))\n",
    "c = float(input(\"Enter coefficient c: \"))\n",
    "\n",
    "# Print the result\n",
    "print(solve_quadratic_eqn(a, b, c))\n"
   ]
  },
  {
   "cell_type": "code",
   "execution_count": 5,
   "id": "9307ed94",
   "metadata": {},
   "outputs": [
    {
     "name": "stdout",
     "output_type": "stream",
     "text": [
      "Enter elements of the list separated by space: 5 4 2\n",
      "5\n",
      "4\n",
      "2\n"
     ]
    }
   ],
   "source": [
    "#printing each element of list\n",
    "\n",
    "def print_list(lst):\n",
    "    for item in lst:\n",
    "        print(item)\n",
    "\n",
    "# Get user input\n",
    "lst = input(\"Enter elements of the list separated by space: \").split()\n",
    "\n",
    "# Print the list\n",
    "print_list(lst)\n"
   ]
  },
  {
   "cell_type": "code",
   "execution_count": 6,
   "id": "6eb0d792",
   "metadata": {},
   "outputs": [
    {
     "name": "stdout",
     "output_type": "stream",
     "text": [
      "Enter elements of the list separated by space: 2 8 4\n",
      "Reversed List: ['4', '8', '2']\n"
     ]
    }
   ],
   "source": [
    "#reverser of a list\n",
    "\n",
    "def reverse_list(arr):\n",
    "    return arr[::-1]\n",
    "\n",
    "# Get user input\n",
    "arr = input(\"Enter elements of the list separated by space: \").split()\n",
    "\n",
    "# Print the reversed list\n",
    "print(\"Reversed List:\", reverse_list(arr))\n"
   ]
  },
  {
   "cell_type": "code",
   "execution_count": 7,
   "id": "e1a22bc0",
   "metadata": {},
   "outputs": [
    {
     "name": "stdout",
     "output_type": "stream",
     "text": [
      "Enter number of terms (n): 8\n",
      "Series Sum: 0.6345238095238095\n"
     ]
    }
   ],
   "source": [
    "#sum of series\n",
    "# 1 - 1/2 + 1/3 - 1/4 + 1/5 -... 1/n where n is a positive integer and input by user.\n",
    "\n",
    "def compute_series_sum(n):\n",
    "    total = 0\n",
    "    for i in range(1, n + 1):\n",
    "        if i % 2 == 0:\n",
    "            total -= 1 / i\n",
    "        else:\n",
    "            total += 1 / i\n",
    "    return total\n",
    "\n",
    "# Get user input\n",
    "n = int(input(\"Enter number of terms (n): \"))\n",
    "\n",
    "# Print the series sum\n",
    "print(f\"Series Sum: {compute_series_sum(n)}\")\n"
   ]
  },
  {
   "cell_type": "code",
   "execution_count": 8,
   "id": "4b4975c6",
   "metadata": {},
   "outputs": [
    {
     "name": "stdout",
     "output_type": "stream",
     "text": [
      "Enter angle in radians (x): 45\n",
      "Enter number of terms (n): 8\n",
      "Sine Value: -4343025392279.037\n"
     ]
    }
   ],
   "source": [
    "#compute sin x using series\n",
    "#sin x = x - x3/3! + x5/5! - x7/7! + x9/9! ........\n",
    "\n",
    "import math\n",
    "\n",
    "def compute_sine(x, n):\n",
    "    sine_value = 0\n",
    "    for i in range(n):\n",
    "        term = ((-1)**i * x**(2*i + 1)) / math.factorial(2*i + 1)\n",
    "        sine_value += term\n",
    "    return sine_value\n",
    "\n",
    "# Get user input\n",
    "x = float(input(\"Enter angle in radians (x): \"))\n",
    "n = int(input(\"Enter number of terms (n): \"))\n",
    "\n",
    "# Print the sine value\n",
    "print(f\"Sine Value: {compute_sine(x, n)}\")\n"
   ]
  },
  {
   "cell_type": "code",
   "execution_count": 9,
   "id": "8b1866af",
   "metadata": {},
   "outputs": [
    {
     "name": "stdout",
     "output_type": "stream",
     "text": [
      "Enter angle in radians (x): 45\n",
      "Enter number of terms (n): 8\n",
      "Cosine Value: -1466674387512.7568\n"
     ]
    }
   ],
   "source": [
    "#compute cos x using series\n",
    "#cos x = 1 - x2/2! + x4/4! - x6/6! ....\n",
    "import math\n",
    "\n",
    "def compute_cosine(x, n):\n",
    "    cosine_value = 0\n",
    "    for i in range(n):\n",
    "        term = ((-1)**i * x**(2*i)) / math.factorial(2*i)\n",
    "        cosine_value += term\n",
    "    return cosine_value\n",
    "\n",
    "# Get user input\n",
    "x = float(input(\"Enter angle in radians (x): \"))\n",
    "n = int(input(\"Enter number of terms (n): \"))\n",
    "\n",
    "# Print the cosine value\n",
    "print(f\"Cosine Value: {compute_cosine(x, n)}\")\n"
   ]
  },
  {
   "cell_type": "code",
   "execution_count": 13,
   "id": "498e8021",
   "metadata": {},
   "outputs": [
    {
     "name": "stdout",
     "output_type": "stream",
     "text": [
      "Enter the number of lines for the pattern: 4\n",
      ".\n",
      "/ \\\n",
      "/   \\\n",
      "/     \\\n",
      "/_______\\\n"
     ]
    }
   ],
   "source": [
    "# print_triangle_pattern.py\n",
    "#.\n",
    "#/\\\n",
    "#/_\\\n",
    "def print_pattern(N):\n",
    "    print('.')\n",
    "    # Loop to print each line\n",
    "    for i in range(1, N):\n",
    "        # Print the slashes and spaces\n",
    "        print('/' + ' ' * (2 * i - 1) + '\\\\')\n",
    "    \n",
    "    # Print the last line with underscores\n",
    "    print('/' + '_' * (2 * (N - 1) + 1) + '\\\\')\n",
    "\n",
    "# Get user input\n",
    "N = int(input(\"Enter the number of lines for the pattern: \"))\n",
    "\n",
    "# Print the pattern\n",
    "print_pattern(N)\n",
    "\n"
   ]
  },
  {
   "cell_type": "code",
   "execution_count": 15,
   "id": "d6da7193",
   "metadata": {},
   "outputs": [
    {
     "name": "stdout",
     "output_type": "stream",
     "text": [
      "Enter a number to display in 8-segment format: 5\n",
      "_\n",
      "|_\n",
      "_|\n"
     ]
    }
   ],
   "source": [
    "def print_8_segment_display(number, n):\n",
    "    segments = {\n",
    "        '0': [\" _ \", \"| |\", \"|_|\"],\n",
    "        '1': [\"   \", \"  |\", \"  |\"],\n",
    "        '2': [\" _ \", \" _|\", \"|_ \"],\n",
    "        '3': [\" _ \", \" _|\", \" _|\"],\n",
    "        '4': [\"   \", \"|_|\", \"  |\"],\n",
    "        '5': [\" _ \", \"|_ \", \" _|\"],\n",
    "        '6': [\" _ \", \"|_ \", \"|_|\"],\n",
    "        '7': [\" _ \", \"  |\", \"  |\"],\n",
    "        '8': [\" _ \", \"|_|\", \"|_|\"],\n",
    "        '9': [\" _ \", \"|_|\", \" _|\"]\n",
    "    }\n",
    "    \n",
    "    number = str(number)\n",
    "    rows = [\"\"] * 3\n",
    "    \n",
    "    for digit in number:\n",
    "        for i in range(3):\n",
    "            rows[i] += segments[digit][i] + \" \"\n",
    "    \n",
    "    for row in rows:\n",
    "        print(row.strip())\n",
    "\n",
    "number = input(\"Enter a number to display in 8-segment format: \")\n",
    "\n",
    "print_8_segment_display(number, 2)\n",
    "\n"
   ]
  },
  {
   "cell_type": "code",
   "execution_count": null,
   "id": "4413116e",
   "metadata": {},
   "outputs": [],
   "source": []
  }
 ],
 "metadata": {
  "kernelspec": {
   "display_name": "Python 3 (ipykernel)",
   "language": "python",
   "name": "python3"
  },
  "language_info": {
   "codemirror_mode": {
    "name": "ipython",
    "version": 3
   },
   "file_extension": ".py",
   "mimetype": "text/x-python",
   "name": "python",
   "nbconvert_exporter": "python",
   "pygments_lexer": "ipython3",
   "version": "3.9.13"
  }
 },
 "nbformat": 4,
 "nbformat_minor": 5
}
