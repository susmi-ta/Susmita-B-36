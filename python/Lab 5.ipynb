{
 "cells": [
  {
   "cell_type": "code",
   "execution_count": 1,
   "id": "aa658f6d",
   "metadata": {},
   "outputs": [
    {
     "name": "stdout",
     "output_type": "stream",
     "text": [
      "Sorted ages: [19, 19, 20, 22, 24, 24, 24, 25, 25, 26]\n",
      "Min age: 19\n",
      "Max age: 26\n",
      "Median age: 24.0\n",
      "Average age: 22.8\n",
      "Range of ages: 7\n",
      "Min - average: 3.8000000000000007\n",
      "Max - average: 3.1999999999999993\n"
     ]
    }
   ],
   "source": [
    "# 1. The following is a list of 10 students ages:\n",
    "# ages = [19, 22, 19, 24, 20, 25, 26, 24, 25, 24]\n",
    "# I. Sort the list and find the min and max age\n",
    "# II. Add the min age and the max age again to the list\n",
    "# III. Find the median age (one middle item or two middle items divided by two)\n",
    "# IV. Find the average age (sum of all items divided by their number)\n",
    "# V. Find the range of the ages (max minus min)\n",
    "# VI. Compare the value of (min - average) and (max - average), use _abs()_ method\n",
    "ages = [19, 22, 19, 24, 20, 25, 26, 24, 25, 24]\n",
    "ages.sort()\n",
    "min_age = ages[0]\n",
    "max_age = ages[-1]\n",
    "median_age = (ages[len(ages) // 2] if len(ages) % 2 != 0 else (ages[len(ages) // 2 - 1] + ages[len(ages) // 2]) / 2)\n",
    "average_age = sum(ages) / len(ages)\n",
    "age_range = max_age - min_age\n",
    "min_minus_avg = abs(min_age - average_age)\n",
    "max_minus_avg = abs(max_age - average_age)\n",
    "\n",
    "print(f\"Sorted ages: {ages}\")\n",
    "print(f\"Min age: {min_age}\")\n",
    "print(f\"Max age: {max_age}\")\n",
    "print(f\"Median age: {median_age}\")\n",
    "print(f\"Average age: {average_age}\")\n",
    "print(f\"Range of ages: {age_range}\")\n",
    "print(f\"Min - average: {min_minus_avg}\")\n",
    "print(f\"Max - average: {max_minus_avg}\")\n"
   ]
  },
  {
   "cell_type": "code",
   "execution_count": 2,
   "id": "503c8e19",
   "metadata": {},
   "outputs": [
    {
     "name": "stdout",
     "output_type": "stream",
     "text": [
      "Python\n",
      "Numpy\n",
      "Pandas\n",
      "Django\n",
      "Flask\n"
     ]
    }
   ],
   "source": [
    "# 2. Iterate through the list, ['Python', 'Numpy', 'Pandas', 'Django', 'Flask'] using a for loop and print out\n",
    "# the items.\n",
    "items = ['Python', 'Numpy', 'Pandas', 'Django', 'Flask']\n",
    "for item in items:\n",
    "    print(item)\n"
   ]
  },
  {
   "cell_type": "code",
   "execution_count": 4,
   "id": "ce4a9070",
   "metadata": {},
   "outputs": [
    {
     "name": "stdout",
     "output_type": "stream",
     "text": [
      "Food Stuff List: ['apple', 'banana', 'cherry', 'carrot', 'broccoli', 'spinach', 'milk', 'cheese', 'butter']\n",
      "Middle items: broccoli\n",
      "First three items: ['apple', 'banana', 'cherry']\n",
      "Last three items: ['milk', 'cheese', 'butter']\n"
     ]
    }
   ],
   "source": [
    "# 3. Create fruits, vegetables, and animal products tuples.\n",
    "# I. Join the three tuples and assign it to a variable called food_stuff_tp.\n",
    "# II. Change the food_stuff_tp tuple to a food_stuff_lt list\n",
    "# III. Slice out the middle item or items from the food_stuff_tp tuple or food_stuff_lt list.\n",
    "# IV. Slice out the first three items and the last three items from food_stuff_lt list\n",
    "# V. Delete the food_stuff_tp tuple completely\n",
    "fruits = ('apple', 'banana', 'cherry')\n",
    "vegetables = ('carrot', 'broccoli', 'spinach')\n",
    "animal_products = ('milk', 'cheese', 'butter')\n",
    "\n",
    "food_stuff_tp = fruits + vegetables + animal_products\n",
    "food_stuff_lt = list(food_stuff_tp)\n",
    "\n",
    "middle_index = len(food_stuff_tp) // 2\n",
    "if len(food_stuff_tp) % 2 == 0:\n",
    "    middle_items = food_stuff_tp[middle_index - 1: middle_index + 1]\n",
    "else:\n",
    "    middle_items = food_stuff_tp[middle_index]\n",
    "\n",
    "first_three = food_stuff_lt[:3]\n",
    "last_three = food_stuff_lt[-3:]\n",
    "\n",
    "# Remove the food_stuff_tp tuple\n",
    "del food_stuff_tp\n",
    "\n",
    "# Only print what is valid after deletion\n",
    "print(f\"Food Stuff List: {food_stuff_lt}\")\n",
    "print(f\"Middle items: {middle_items}\")\n",
    "print(f\"First three items: {first_three}\")\n",
    "print(f\"Last three items: {last_three}\")\n"
   ]
  },
  {
   "cell_type": "code",
   "execution_count": null,
   "id": "6fcb2bc9",
   "metadata": {},
   "outputs": [],
   "source": [
    "# 3. Create fruits, vegetables, and animal products tuples.\n",
    "# I. Join the three tuples and assign it to a variable called food_stuff_tp.\n",
    "# II. Change the food_stuff_tp tuple to a food_stuff_lt list\n",
    "# III. Slice out the middle item or items from the food_stuff_tp tuple or food_stuff_lt list.\n",
    "# IV. Slice out the first three items and the last three items from food_stuff_lt list\n",
    "# V. Delete the food_stuff_tp tuple completely\n",
    "fruits = ('apple', 'banana', 'cherry')\n",
    "vegetables = ('carrot', 'broccoli', 'spinach')\n",
    "animal_products = ('milk', 'cheese', 'butter')\n",
    "\n",
    "food_stuff_tp = fruits + vegetables + animal_products\n",
    "food_stuff_lt = list(food_stuff_tp)\n",
    "middle_index = len(food_stuff_tp) // 2\n",
    "if len(food_stuff_tp) % 2 == 0:\n",
    "    middle_items = food_stuff_tp[middle_index - 1: middle_index + 1]\n",
    "else:\n",
    "    middle_items = food_stuff_tp[middle_index]\n",
    "first_three = food_stuff_lt[:3]\n",
    "last_three = food_stuff_lt[-3:]\n",
    "\n",
    "del food_stuff_tp\n",
    "\n",
    "print(f\"Food Stuff Tuple: {food_stuff_tp}\")\n",
    "print(f\"Food Stuff List: {food_stuff_lt}\")\n",
    "print(f\"Middle items: {middle_items}\")\n",
    "print(f\"First three items: {first_three}\")\n",
    "print(f\"Last three items: {last_three}\")\n"
   ]
  },
  {
   "cell_type": "code",
   "execution_count": 6,
   "id": "c864af85",
   "metadata": {},
   "outputs": [
    {
     "name": "stdout",
     "output_type": "stream",
     "text": [
      "Length of it_companies: 7\n",
      "it_companies: {'Microsoft', 'Yahoo', 'Snapchat', 'Google', 'Twitter', 'IBM', 'Oracle', 'Amazon', 'Facebook'}\n",
      "A union B: {19, 20, 22, 24, 25, 26, 27, 28}\n",
      "A intersection B: {19, 20, 22, 24, 25, 26}\n",
      "A is subset of B: True\n",
      "A and B are disjoint: False\n",
      "A union B and B union A: {19, 20, 22, 24, 25, 26, 27, 28}, {19, 20, 22, 24, 25, 26, 27, 28}\n",
      "Symmetric difference between A and B: {27, 28}\n"
     ]
    }
   ],
   "source": [
    "# 4. From the above sets A and B\n",
    "# I. Join A and B\n",
    "# II. Find A intersection B\n",
    "# III. Is A subset of B\n",
    "# IV. Are A and B disjoint sets\n",
    "# V. Join A with B and B with A\n",
    "# VI. What is the symmetric difference between A and B\n",
    "# VII. Delete the sets completely\n",
    "it_companies = {'Facebook', 'Google', 'Microsoft', 'Apple', 'IBM', 'Oracle', 'Amazon'}\n",
    "A = {19, 22, 24, 20, 25, 26}\n",
    "B = {19, 22, 20, 25, 26, 24, 28, 27}\n",
    "age = [22, 19, 24, 25, 26, 24, 25, 24]\n",
    "\n",
    "print(f\"Length of it_companies: {len(it_companies)}\")\n",
    "it_companies.add('Twitter')\n",
    "it_companies.update(['Yahoo', 'Snapchat'])\n",
    "it_companies.remove('Apple')\n",
    "print(f\"it_companies: {it_companies}\")\n",
    "\n",
    "print(f\"A union B: {A | B}\")\n",
    "print(f\"A intersection B: {A & B}\")\n",
    "print(f\"A is subset of B: {A.issubset(B)}\")\n",
    "print(f\"A and B are disjoint: {A.isdisjoint(B)}\")\n",
    "print(f\"A union B and B union A: {A | B}, {B | A}\")\n",
    "print(f\"Symmetric difference between A and B: {A ^ B}\")\n",
    "\n",
    "A.clear()\n",
    "B.clear()\n"
   ]
  },
  {
   "cell_type": "code",
   "execution_count": 7,
   "id": "4274eace",
   "metadata": {},
   "outputs": [
    {
     "name": "stdout",
     "output_type": "stream",
     "text": [
      "{'name': 'Buddy', 'color': 'brown', 'breed': 'Labrador', 'legs': 4, 'age': 3}\n"
     ]
    }
   ],
   "source": [
    "# 5. Create an empty dictionary called dog. Add name, color, breed, legs, age to the dog dictionary\n",
    "dog = {}\n",
    "dog['name'] = 'Buddy'\n",
    "dog['color'] = 'brown'\n",
    "dog['breed'] = 'Labrador'\n",
    "dog['legs'] = 4\n",
    "dog['age'] = 3\n",
    "\n",
    "print(dog)\n"
   ]
  },
  {
   "cell_type": "code",
   "execution_count": 8,
   "id": "a0c306ae",
   "metadata": {},
   "outputs": [
    {
     "name": "stdout",
     "output_type": "stream",
     "text": [
      "Length of student dictionary: 9\n",
      "Skills value: ['Python', 'Data Analysis'], Type: <class 'list'>\n",
      "Updated skills: ['Python', 'Data Analysis', 'Machine Learning', 'AI']\n",
      "Keys: ['first_name', 'last_name', 'gender', 'age', 'marital_status', 'skills', 'country', 'city', 'address']\n",
      "Values: ['John', 'Doe', 'Male', 21, 'Single', ['Python', 'Data Analysis', 'Machine Learning', 'AI'], 'USA', 'New York', '123 Street']\n",
      "Dictionary to list of tuples: [('first_name', 'John'), ('last_name', 'Doe'), ('gender', 'Male'), ('age', 21), ('marital_status', 'Single'), ('skills', ['Python', 'Data Analysis', 'Machine Learning', 'AI']), ('country', 'USA'), ('city', 'New York'), ('address', '123 Street')]\n",
      "Student dictionary after deleting address: {'first_name': 'John', 'last_name': 'Doe', 'gender': 'Male', 'age': 21, 'marital_status': 'Single', 'skills': ['Python', 'Data Analysis', 'Machine Learning', 'AI'], 'country': 'USA', 'city': 'New York'}\n"
     ]
    }
   ],
   "source": [
    "# 6. Create a student dictionary and add first_name, last_name, gender, age, marital status, skills,\n",
    "# country, city and address as keys for the dictionary\n",
    "# I. Get the length of the student dictionary\n",
    "# II. Get the value of skills and check the data type, it should be a list\n",
    "# III. Modify the skills values by adding one or two skills\n",
    "# IV. Get the dictionary keys as a list\n",
    "# V. Get the dictionary values as a list\n",
    "# VI. Change the dictionary to a list of tuples using _items()_ method\n",
    "# VII. Delete one of the items in the dictionary\n",
    "# VIII. Delete one of the dictionaries\n",
    "student = {\n",
    "    'first_name': 'John',\n",
    "    'last_name': 'Doe',\n",
    "    'gender': 'Male',\n",
    "    'age': 21,\n",
    "    'marital_status': 'Single',\n",
    "    'skills': ['Python', 'Data Analysis'],\n",
    "    'country': 'USA',\n",
    "    'city': 'New York',\n",
    "    'address': '123 Street'\n",
    "}\n",
    "\n",
    "print(f\"Length of student dictionary: {len(student)}\")\n",
    "print(f\"Skills value: {student['skills']}, Type: {type(student['skills'])}\")\n",
    "\n",
    "student['skills'].extend(['Machine Learning', 'AI'])\n",
    "print(f\"Updated skills: {student['skills']}\")\n",
    "\n",
    "print(f\"Keys: {list(student.keys())}\")\n",
    "print(f\"Values: {list(student.values())}\")\n",
    "print(f\"Dictionary to list of tuples: {list(student.items())}\")\n",
    "\n",
    "del student['address']\n",
    "print(f\"Student dictionary after deleting address: {student}\")\n",
    "\n",
    "del student\n"
   ]
  },
  {
   "cell_type": "code",
   "execution_count": 9,
   "id": "daec3748",
   "metadata": {},
   "outputs": [
    {
     "name": "stdout",
     "output_type": "stream",
     "text": [
      "Middle skill: Node\n",
      "Has Python skill: True\n",
      "He is a backend developer\n"
     ]
    }
   ],
   "source": [
    "# 7. Create a person dictionary.\n",
    "# I. Check if the person dictionary has skills key, if so print out the middle skill in the skills list.\n",
    "# II. Check if the person dictionary has skills key, if so check if the person has 'Python' skill and\n",
    "# print out the result.\n",
    "# III. If a person skills has only JavaScript and React, print('He is a front end developer'), if the\n",
    "# person skills has Node, Python, MongoDB, print('He is a backend developer'), if the person skills has\n",
    "# React, Node and MongoDB, Print('He is a fullstack developer'), else print('unknown title')\n",
    "# IV. If the person is married and if he lives in Finland, print the information in the following format:\n",
    "# Asabeneh Yetayeh lives in Finland. He is married.\n",
    "person = {\n",
    "    'first_name': 'Asabeneh',\n",
    "    'last_name': 'Yetayeh',\n",
    "    'age': 250,\n",
    "    'country': 'Finland',\n",
    "    'is_married': True,\n",
    "    'skills': ['JavaScript', 'React', 'Node', 'MongoDB', 'Python'],\n",
    "    'address': {\n",
    "        'street': 'Space street',\n",
    "        'zipcode': '02210'\n",
    "    }\n",
    "}\n",
    "\n",
    "if 'skills' in person:\n",
    "    skills = person['skills']\n",
    "    if skills:\n",
    "        middle_skill = skills[len(skills) // 2]\n",
    "        print(f\"Middle skill: {middle_skill}\")\n",
    "\n",
    "    has_python = 'Python' in skills\n",
    "    print(f\"Has Python skill: {has_python}\")\n",
    "\n",
    "    if set(skills) == {'JavaScript', 'React'}:\n",
    "        print('He is a front end developer')\n",
    "    elif set(skills) >= {'Node', 'Python', 'MongoDB'}:\n",
    "        print('He is a backend developer')\n",
    "    elif set(skills) >= {'React', 'Node', 'MongoDB'}:\n",
    "        print('He is a fullstack developer')\n",
    "    else:\n",
    "        print('unknown title')\n",
    "\n"
   ]
  },
  {
   "cell_type": "code",
   "execution_count": null,
   "id": "3b520bf9",
   "metadata": {},
   "outputs": [],
   "source": []
  }
 ],
 "metadata": {
  "kernelspec": {
   "display_name": "Python 3 (ipykernel)",
   "language": "python",
   "name": "python3"
  },
  "language_info": {
   "codemirror_mode": {
    "name": "ipython",
    "version": 3
   },
   "file_extension": ".py",
   "mimetype": "text/x-python",
   "name": "python",
   "nbconvert_exporter": "python",
   "pygments_lexer": "ipython3",
   "version": "3.9.13"
  }
 },
 "nbformat": 4,
 "nbformat_minor": 5
}
