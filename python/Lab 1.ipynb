{
 "cells": [
  {
   "cell_type": "code",
   "execution_count": 1,
   "id": "f06d1a4a",
   "metadata": {},
   "outputs": [
    {
     "name": "stdout",
     "output_type": "stream",
     "text": [
      "Enter the tempereture in celsius:18\n",
      "Fahrenheit Tempereture= 64.4\n"
     ]
    }
   ],
   "source": [
    "#Convert the temp from Celsius to Fahrenheit\n",
    "cel_temp= input(\"Enter the tempereture in celsius:\")\n",
    "cel_temp=float(cel_temp)\n",
    "fah_temp=(cel_temp*(9/5))+32\n",
    "print(\"Fahrenheit Tempereture= \"+str(fah_temp))"
   ]
  },
  {
   "cell_type": "code",
   "execution_count": 10,
   "id": "d23b8bb3",
   "metadata": {},
   "outputs": [
    {
     "name": "stdout",
     "output_type": "stream",
     "text": [
      "Enter the first number:4\n",
      "Enter the second number:7\n",
      "Before swaping:a=4,b=7\n",
      "After swaping:a=7,b=4\n"
     ]
    }
   ],
   "source": [
    "#Swap two numbers\n",
    "a=int(input(\"Enter the first number:\"))\n",
    "b=int(input(\"Enter the second number:\"))\n",
    "print(\"Before swaping:a=\"+str(a)+\",b=\"+str(b))\n",
    "temp=a\n",
    "a=b\n",
    "b=temp\n",
    "print(\"After swaping:a=\"+str(a)+\",b=\"+str(b))"
   ]
  },
  {
   "cell_type": "code",
   "execution_count": 2,
   "id": "7dba42de",
   "metadata": {},
   "outputs": [
    {
     "name": "stdout",
     "output_type": "stream",
     "text": [
      "Enter a year: 2000\n",
      "This is a leap year.\n"
     ]
    }
   ],
   "source": [
    "#Check if a year is Leap year or not\n",
    "def is_leap_year(year):\n",
    "    if (year % 4 == 0 and year % 100 != 0) or (year % 400 == 0):\n",
    "        print(\"This is a leap year.\")\n",
    "    else:\n",
    "        print(\"This is not a leap year.\")\n",
    "year = input(\"Enter a year: \")\n",
    "year=int(year)\n",
    "is_leap_year(year)\n"
   ]
  },
  {
   "cell_type": "code",
   "execution_count": 11,
   "id": "82e1fd1e",
   "metadata": {},
   "outputs": [
    {
     "name": "stdout",
     "output_type": "stream",
     "text": [
      "Enter the number:23745\n",
      "Reverse of this number is 54732\n"
     ]
    }
   ],
   "source": [
    "#Display the reverse of a number\n",
    "def rev_num(num):\n",
    "    rev=0\n",
    "    while num!=0:\n",
    "        a=num%10\n",
    "        rev=rev*10+a\n",
    "        num=num//10\n",
    "    print(\"Reverse of this number is \"+str(rev))\n",
    "num=input(\"Enter the number:\")\n",
    "num=int(num)\n",
    "rev_num(num)"
   ]
  },
  {
   "cell_type": "code",
   "execution_count": 14,
   "id": "f4bb3adc",
   "metadata": {},
   "outputs": [
    {
     "name": "stdout",
     "output_type": "stream",
     "text": [
      "Enter a number:12\n",
      "factors of 12 is\n",
      "1\n",
      "2\n",
      "3\n",
      "4\n",
      "6\n",
      "12\n"
     ]
    }
   ],
   "source": [
    "#Find the factors of a given number\n",
    "def factor(n):\n",
    "    print(\"factors of \"+str(n)+\" is\")\n",
    "    for i in range(1,n+1):\n",
    "        if(n%i==0):\n",
    "            print(i)\n",
    "num=int(input(\"Enter a number:\"))\n",
    "factor(num)\n"
   ]
  },
  {
   "cell_type": "code",
   "execution_count": 5,
   "id": "2735a550",
   "metadata": {},
   "outputs": [
    {
     "name": "stdout",
     "output_type": "stream",
     "text": [
      "Enter the number:40\n",
      "Prime number series upto 40 is \n"
     ]
    },
    {
     "data": {
      "text/plain": [
       "2"
      ]
     },
     "execution_count": 5,
     "metadata": {},
     "output_type": "execute_result"
    }
   ],
   "source": [
    "#Generate the prime number series upto nth term\n",
    "def prime(n):\n",
    "    print(\"Prime number series upto \"+str(n)+\" is \")\n",
    "    if n==1 or n==0:\n",
    "        return False\n",
    "    for i in range(2,n):\n",
    "        if n%i==0:\n",
    "            return (i)\n",
    "        else:\n",
    "            continue\n",
    "num=int(input(\"Enter the number:\"))\n",
    "prime(num)"
   ]
  },
  {
   "cell_type": "code",
   "execution_count": 16,
   "id": "84770489",
   "metadata": {},
   "outputs": [
    {
     "name": "stdout",
     "output_type": "stream",
     "text": [
      "All numbers that are divisible by 7 and not a multiple by 5 between 1000 and 2000:\n",
      "1001\n",
      "1008\n",
      "1022\n",
      "1029\n",
      "1036\n",
      "1043\n",
      "1057\n",
      "1064\n",
      "1071\n",
      "1078\n",
      "1092\n",
      "1099\n",
      "1106\n",
      "1113\n",
      "1127\n",
      "1134\n",
      "1141\n",
      "1148\n",
      "1162\n",
      "1169\n",
      "1176\n",
      "1183\n",
      "1197\n",
      "1204\n",
      "1211\n",
      "1218\n",
      "1232\n",
      "1239\n",
      "1246\n",
      "1253\n",
      "1267\n",
      "1274\n",
      "1281\n",
      "1288\n",
      "1302\n",
      "1309\n",
      "1316\n",
      "1323\n",
      "1337\n",
      "1344\n",
      "1351\n",
      "1358\n",
      "1372\n",
      "1379\n",
      "1386\n",
      "1393\n",
      "1407\n",
      "1414\n",
      "1421\n",
      "1428\n",
      "1442\n",
      "1449\n",
      "1456\n",
      "1463\n",
      "1477\n",
      "1484\n",
      "1491\n",
      "1498\n",
      "1512\n",
      "1519\n",
      "1526\n",
      "1533\n",
      "1547\n",
      "1554\n",
      "1561\n",
      "1568\n",
      "1582\n",
      "1589\n",
      "1596\n",
      "1603\n",
      "1617\n",
      "1624\n",
      "1631\n",
      "1638\n",
      "1652\n",
      "1659\n",
      "1666\n",
      "1673\n",
      "1687\n",
      "1694\n",
      "1701\n",
      "1708\n",
      "1722\n",
      "1729\n",
      "1736\n",
      "1743\n",
      "1757\n",
      "1764\n",
      "1771\n",
      "1778\n",
      "1792\n",
      "1799\n",
      "1806\n",
      "1813\n",
      "1827\n",
      "1834\n",
      "1841\n",
      "1848\n",
      "1862\n",
      "1869\n",
      "1876\n",
      "1883\n",
      "1897\n",
      "1904\n",
      "1911\n",
      "1918\n",
      "1932\n",
      "1939\n",
      "1946\n",
      "1953\n",
      "1967\n",
      "1974\n",
      "1981\n",
      "1988\n"
     ]
    }
   ],
   "source": [
    "#Write a program in python which makes use of a function to display all such numbers that are divisible by 7 and not a multiple of 5 between 1000 and 2000.\n",
    "def display(a,b):\n",
    "    print(\"All numbers that are divisible by 7 and not a multiple by 5 between 1000 and 2000:\")\n",
    "    for i in range(a,b+1):\n",
    "        if i%7==0 and i%5!=0:\n",
    "            print(i)\n",
    "display(1000,2000)"
   ]
  },
  {
   "cell_type": "code",
   "execution_count": 21,
   "id": "ad9ff026",
   "metadata": {},
   "outputs": [
    {
     "name": "stdout",
     "output_type": "stream",
     "text": [
      "Enter a number:13431\n",
      "It is a palindrome number.\n"
     ]
    }
   ],
   "source": [
    "#Check whether a number is palindrome or not.\n",
    "def palindrome_no(n):\n",
    "        a=n\n",
    "        rev=0\n",
    "        while n!=0:\n",
    "            r=n%10\n",
    "            rev= rev*10+r\n",
    "            n=n//10\n",
    "        if a==rev:\n",
    "            print(\"It is a palindrome number.\")\n",
    "        else:\n",
    "            print(\"It is not a palindrome number.\")\n",
    "num= int(input(\"Enter a number:\"))\n",
    "palindrome_no(num)"
   ]
  },
  {
   "cell_type": "code",
   "execution_count": 8,
   "id": "00768c0f",
   "metadata": {},
   "outputs": [
    {
     "name": "stdout",
     "output_type": "stream",
     "text": [
      "Enter a Number:6\n",
      "It is a perfect number.\n",
      "It is an armstrong number.\n"
     ]
    }
   ],
   "source": [
    "#Check is a number is:(a)a perfect number (b)an armstrong number or not\n",
    "def perfect_no(n):\n",
    "    if n>=0:\n",
    "        a=n\n",
    "        sum=0\n",
    "        for i in range(1,n):\n",
    "            if n%i==0:\n",
    "                sum=sum+i\n",
    "        if a==sum:\n",
    "            print(\"It is a perfect number.\")\n",
    "        else:\n",
    "            print(\"It is not a perfect number.\")\n",
    "def armstrong_no(n):\n",
    "    if n>=0:\n",
    "        a=n\n",
    "        sum=0\n",
    "        while n!=0:\n",
    "            b=n%10\n",
    "            sum=sum+b**len(str(a))\n",
    "            n=n//10\n",
    "        if a==sum:\n",
    "            print(\"It is an armstrong number.\")\n",
    "        else:\n",
    "            print(\"It is not an armstrong number.\")\n",
    "num= int(input(\"Enter a Number:\"))\n",
    "perfect_no(num)\n",
    "armstrong_no(num)"
   ]
  },
  {
   "cell_type": "markdown",
   "id": "db2070c6",
   "metadata": {},
   "source": []
  },
  {
   "cell_type": "code",
   "execution_count": null,
   "id": "15a5c157",
   "metadata": {},
   "outputs": [],
   "source": [
    "#Write a program to display a Fibonacci series upto nth term."
   ]
  },
  {
   "cell_type": "code",
   "execution_count": 9,
   "id": "733fd2e0",
   "metadata": {},
   "outputs": [
    {
     "name": "stdout",
     "output_type": "stream",
     "text": [
      "Enter the first number:3\n",
      "Enter the second number:2\n",
      "Sum=5\n"
     ]
    }
   ],
   "source": [
    "#Write a python program to add two numbers\n",
    "a=int(input(\"Enter the first number:\"))\n",
    "b=int(input(\"Enter the second number:\"))\n",
    "print(\"Sum=\"+str(a+b))"
   ]
  },
  {
   "cell_type": "code",
   "execution_count": null,
   "id": "13efeb08",
   "metadata": {},
   "outputs": [],
   "source": []
  }
 ],
 "metadata": {
  "kernelspec": {
   "display_name": "Python 3 (ipykernel)",
   "language": "python",
   "name": "python3"
  },
  "language_info": {
   "codemirror_mode": {
    "name": "ipython",
    "version": 3
   },
   "file_extension": ".py",
   "mimetype": "text/x-python",
   "name": "python",
   "nbconvert_exporter": "python",
   "pygments_lexer": "ipython3",
   "version": "3.9.13"
  }
 },
 "nbformat": 4,
 "nbformat_minor": 5
}
