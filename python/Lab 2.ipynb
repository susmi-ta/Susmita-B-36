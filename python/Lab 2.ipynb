{
 "cells": [
  {
   "cell_type": "code",
   "execution_count": 1,
   "id": "f06d1a4a",
   "metadata": {},
   "outputs": [
    {
     "name": "stdout",
     "output_type": "stream",
     "text": [
      "Enter the first number: 2\n",
      "Enter the second number: 5\n",
      "Enter the third number: 9\n",
      "Sum of square roots: 6.650281539872885\n"
     ]
    }
   ],
   "source": [
    "#Sum of square root of three number\n",
    "import math\n",
    "\n",
    "def sum_of_square_roots(a, b, c):\n",
    "    return math.sqrt(a) + math.sqrt(b) + math.sqrt(c)\n",
    "\n",
    "# User input\n",
    "a = float(input(\"Enter the first number: \"))\n",
    "b = float(input(\"Enter the second number: \"))\n",
    "c = float(input(\"Enter the third number: \"))\n",
    "\n",
    "print(\"Sum of square roots:\", sum_of_square_roots(a, b, c))\n",
    "\n"
   ]
  },
  {
   "cell_type": "code",
   "execution_count": 2,
   "id": "d23b8bb3",
   "metadata": {},
   "outputs": [
    {
     "name": "stdout",
     "output_type": "stream",
     "text": [
      "Enter coefficient a: 5\n",
      "Enter coefficient b: 7\n",
      "Enter coefficient c: 9\n",
      "Roots of the quadratic equation are: (-0.7+1.1445523142259597j) and (-0.7-1.1445523142259597j)\n"
     ]
    }
   ],
   "source": [
    "#program to solve quadratic equation\n",
    "import cmath\n",
    "\n",
    "def solve_quadratic(a, b, c):\n",
    "    discriminant = cmath.sqrt(b**2 - 4*a*c)\n",
    "    root1 = (-b + discriminant) / (2*a)\n",
    "    root2 = (-b - discriminant) / (2*a)\n",
    "    return root1, root2\n",
    "\n",
    "# User input\n",
    "a = float(input(\"Enter coefficient a: \"))\n",
    "b = float(input(\"Enter coefficient b: \"))\n",
    "c = float(input(\"Enter coefficient c: \"))\n",
    "\n",
    "root1, root2 = solve_quadratic(a, b, c)\n",
    "print(f\"Roots of the quadratic equation are: {root1} and {root2}\")\n"
   ]
  },
  {
   "cell_type": "code",
   "execution_count": 3,
   "id": "7dba42de",
   "metadata": {},
   "outputs": [
    {
     "name": "stdout",
     "output_type": "stream",
     "text": [
      "Enter the first number: 4\n",
      "Enter the second number: 12\n",
      "GCD of 4 and 12 is 4\n"
     ]
    }
   ],
   "source": [
    "#program to find GCD of two number\n",
    "import math\n",
    "\n",
    "def gcd(a, b):\n",
    "    return math.gcd(a, b)\n",
    "\n",
    "# User input\n",
    "a = int(input(\"Enter the first number: \"))\n",
    "b = int(input(\"Enter the second number: \"))\n",
    "\n",
    "print(\"GCD of\", a, \"and\", b, \"is\", gcd(a, b))\n",
    "\n"
   ]
  },
  {
   "cell_type": "code",
   "execution_count": 4,
   "id": "82e1fd1e",
   "metadata": {},
   "outputs": [
    {
     "name": "stdout",
     "output_type": "stream",
     "text": [
      "5 to the power of 8: 390625.0\n",
      "Square root of 400: 20.0\n",
      "Exponential of 5: 148.4131591025766\n",
      "Logarithm of 625 base 5: 4.0\n"
     ]
    }
   ],
   "source": [
    "import math\n",
    "\n",
    "# a) 5 to the power of 8\n",
    "def power_of_5():\n",
    "    return math.pow(5, 8)\n",
    "\n",
    "# b) Square root of 400\n",
    "def square_root_400():\n",
    "    return math.sqrt(400)\n",
    "\n",
    "# c) Exponential of 5\n",
    "def exponential_of_5():\n",
    "    return math.exp(5)\n",
    "\n",
    "# d) Logarithm of 625 base 5\n",
    "def log_625_base_5():\n",
    "    return math.log(625, 5)\n",
    "\n",
    "print(\"5 to the power of 8:\", power_of_5())\n",
    "print(\"Square root of 400:\", square_root_400())\n",
    "print(\"Exponential of 5:\", exponential_of_5())\n",
    "print(\"Logarithm of 625 base 5:\", log_625_base_5())\n"
   ]
  },
  {
   "cell_type": "code",
   "execution_count": 5,
   "id": "f4bb3adc",
   "metadata": {},
   "outputs": [
    {
     "name": "stdout",
     "output_type": "stream",
     "text": [
      "sin(60 degrees): 0.8660254037844386\n",
      "cos(pi): -1.0\n",
      "sin(0.8660254037844386): 0.7617599814162892\n",
      "tan(90 degrees): 1.633123935319537e+16\n"
     ]
    }
   ],
   "source": [
    "import math\n",
    "\n",
    "# a) sin of 60 degrees\n",
    "def sin_60_degrees():\n",
    "    return math.sin(math.radians(60))\n",
    "\n",
    "# b) cos of pi\n",
    "def cos_pi():\n",
    "    return math.cos(math.pi)\n",
    "\n",
    "# c) sin(0.8660254037844386)\n",
    "def sin_value(value):\n",
    "    return math.sin(value)\n",
    "\n",
    "# d) tan of 90 degrees (This will be undefined, results in inf or error)\n",
    "def tan_90_degrees():\n",
    "    try:\n",
    "        return math.tan(math.radians(90))\n",
    "    except ValueError as e:\n",
    "        return str(e)\n",
    "\n",
    "print(\"sin(60 degrees):\", sin_60_degrees())\n",
    "print(\"cos(pi):\", cos_pi())\n",
    "print(\"sin(0.8660254037844386):\", sin_value(0.8660254037844386))\n",
    "print(\"tan(90 degrees):\", tan_90_degrees())\n"
   ]
  },
  {
   "cell_type": "code",
   "execution_count": 6,
   "id": "2735a550",
   "metadata": {},
   "outputs": [
    {
     "name": "stdout",
     "output_type": "stream",
     "text": [
      "Enter the first number: 8\n",
      "Enter the second number: 5\n",
      "Sum of 8.0 and 5.0 is 13.0\n"
     ]
    }
   ],
   "source": [
    "#Sum function with two parameter\n",
    "def sum(a, b):\n",
    "    return a + b\n",
    "\n",
    "# User input\n",
    "a = float(input(\"Enter the first number: \"))\n",
    "b = float(input(\"Enter the second number: \"))\n",
    "\n",
    "print(\"Sum of\", a, \"and\", b, \"is\", sum(a, b))\n"
   ]
  },
  {
   "cell_type": "code",
   "execution_count": 7,
   "id": "84770489",
   "metadata": {},
   "outputs": [
    {
     "name": "stdout",
     "output_type": "stream",
     "text": [
      "Enter a string to reverse: susmita\n",
      "Reversed string: atimsus\n"
     ]
    }
   ],
   "source": [
    "#Reverse of string\n",
    "def reverse_string(s):\n",
    "    return s[::-1]\n",
    "\n",
    "# User input\n",
    "input_string = input(\"Enter a string to reverse: \")\n",
    "\n",
    "print(\"Reversed string:\", reverse_string(input_string))\n"
   ]
  },
  {
   "cell_type": "code",
   "execution_count": 8,
   "id": "ad9ff026",
   "metadata": {},
   "outputs": [
    {
     "name": "stdout",
     "output_type": "stream",
     "text": [
      "Enter the base number: 5\n",
      "Enter the exponent: 3\n",
      "5.0 to the power of 3 is 125.0\n"
     ]
    }
   ],
   "source": [
    "#Power of number using recursion\n",
    "def power(base, exponent):\n",
    "    if exponent == 0:\n",
    "        return 1\n",
    "    else:\n",
    "        return base * power(base, exponent - 1)\n",
    "\n",
    "# User input\n",
    "base = float(input(\"Enter the base number: \"))\n",
    "exponent = int(input(\"Enter the exponent: \"))\n",
    "\n",
    "print(f\"{base} to the power of {exponent} is {power(base, exponent)}\")\n"
   ]
  },
  {
   "cell_type": "code",
   "execution_count": 9,
   "id": "00768c0f",
   "metadata": {},
   "outputs": [
    {
     "name": "stdout",
     "output_type": "stream",
     "text": [
      "Enter a decimal number: 12\n",
      "Binary representation: 1100\n"
     ]
    }
   ],
   "source": [
    "#Decimal to binary\n",
    "def decimal_to_binary(n):\n",
    "    return bin(n).replace(\"0b\", \"\")\n",
    "\n",
    "# User input\n",
    "n = int(input(\"Enter a decimal number: \"))\n",
    "\n",
    "print(\"Binary representation:\", decimal_to_binary(n))\n"
   ]
  },
  {
   "cell_type": "code",
   "execution_count": 10,
   "id": "c755d84b",
   "metadata": {},
   "outputs": [
    {
     "name": "stdout",
     "output_type": "stream",
     "text": [
      "Enter a number to generate its multiplication table: 5\n",
      "5 x 1 = 5\n",
      "5 x 2 = 10\n",
      "5 x 3 = 15\n",
      "5 x 4 = 20\n",
      "5 x 5 = 25\n",
      "5 x 6 = 30\n",
      "5 x 7 = 35\n",
      "5 x 8 = 40\n",
      "5 x 9 = 45\n",
      "5 x 10 = 50\n"
     ]
    }
   ],
   "source": [
    "#multiplication table of a number\n",
    "def multiplication_table(number):\n",
    "    for i in range(1, 11):\n",
    "        print(f\"{number} x {i} = {number * i}\")\n",
    "\n",
    "# User input\n",
    "number = int(input(\"Enter a number to generate its multiplication table: \"))\n",
    "\n",
    "multiplication_table(number)\n"
   ]
  },
  {
   "cell_type": "code",
   "execution_count": 11,
   "id": "15a5c157",
   "metadata": {},
   "outputs": [
    {
     "name": "stdout",
     "output_type": "stream",
     "text": [
      "Enter the starting value: 2\n",
      "Enter the common ratio: 5\n",
      "Enter the number of terms: 7\n",
      "Geometric sequence terms: [2.0, 10.0, 50.0, 250.0, 1250.0, 6250.0, 31250.0]\n"
     ]
    }
   ],
   "source": [
    "#first six terms of geometric sequence\n",
    "def geometric_sequence_terms(start, ratio, terms):\n",
    "    sequence = [start * (ratio ** i) for i in range(terms)]\n",
    "    return sequence\n",
    "\n",
    "# User input\n",
    "start = float(input(\"Enter the starting value: \"))\n",
    "ratio = float(input(\"Enter the common ratio: \"))\n",
    "terms = int(input(\"Enter the number of terms: \"))\n",
    "\n",
    "print(\"Geometric sequence terms:\", geometric_sequence_terms(start, ratio, terms))\n"
   ]
  },
  {
   "cell_type": "code",
   "execution_count": 6,
   "id": "733fd2e0",
   "metadata": {},
   "outputs": [
    {
     "name": "stdout",
     "output_type": "stream",
     "text": [
      "Enter a number to check if it's a Krishnamurthy number: 45\n",
      "45 is not a Krishnamurthy number.\n"
     ]
    }
   ],
   "source": [
    "#Write a python program to find krishnamurty number\n",
    "import math\n",
    "\n",
    "def is_krishnamurthy_number(n):\n",
    "    # Function to calculate factorial of a digit\n",
    "    def factorial(num):\n",
    "        return math.factorial(num)\n",
    "    \n",
    "    # Calculate the sum of the factorials of the digits\n",
    "    sum_of_factorials = sum(factorial(int(digit)) for digit in str(n))\n",
    "    \n",
    "    # Check if the sum is equal to the original number\n",
    "    return n == sum_of_factorials\n",
    "\n",
    "# User input\n",
    "n = int(input(\"Enter a number to check if it's a Krishnamurthy number: \"))\n",
    "\n",
    "if is_krishnamurthy_number(n):\n",
    "    print(f\"{n} is a Krishnamurthy number.\")\n",
    "else:\n",
    "    print(f\"{n} is not a Krishnamurthy number.\")\n",
    "\n"
   ]
  },
  {
   "cell_type": "code",
   "execution_count": 2,
   "id": "13efeb08",
   "metadata": {},
   "outputs": [
    {
     "name": "stdout",
     "output_type": "stream",
     "text": [
      "Enter a number to find the sum of its digits: 12\n",
      "Sum of digits: 3\n"
     ]
    }
   ],
   "source": [
    "#sum of digits of number\n",
    "def sum_of_digits(n):\n",
    "    return sum(int(digit) for digit in str(n))\n",
    "\n",
    "# User input\n",
    "n = int(input(\"Enter a number to find the sum of its digits: \"))\n",
    "\n",
    "print(\"Sum of digits:\", sum_of_digits(n))\n",
    "\n"
   ]
  },
  {
   "cell_type": "code",
   "execution_count": 3,
   "id": "e4d14d24",
   "metadata": {},
   "outputs": [
    {
     "name": "stdout",
     "output_type": "stream",
     "text": [
      "Enter the number of terms for factorial series: 5\n",
      "Factorial series up to 5 terms: [1, 2, 6, 24, 120]\n"
     ]
    }
   ],
   "source": [
    "# Series up to N Terms: 1, 2, 6, 24, 120, 720, ...\n",
    "import math\n",
    "\n",
    "def factorial_series(n):\n",
    "    return [math.factorial(i) for i in range(1, n + 1)]\n",
    "\n",
    "# User input\n",
    "n = int(input(\"Enter the number of terms for factorial series: \"))\n",
    "\n",
    "print(\"Factorial series up to\", n, \"terms:\", factorial_series(n))\n"
   ]
  },
  {
   "cell_type": "code",
   "execution_count": 4,
   "id": "8c3e21fc",
   "metadata": {},
   "outputs": [
    {
     "name": "stdout",
     "output_type": "stream",
     "text": [
      "Enter the base number: 5\n",
      "Enter the exponent: 3\n",
      "5.0 to the power of 3 is 125.0\n"
     ]
    }
   ],
   "source": [
    "#Power of a Number Without Using ** or math.pow()\n",
    "\n",
    "def power(base, exponent):\n",
    "    result = 1\n",
    "    for _ in range(exponent):\n",
    "        result *= base\n",
    "    return result\n",
    "\n",
    "# User input\n",
    "base = float(input(\"Enter the base number: \"))\n",
    "exponent = int(input(\"Enter the exponent: \"))\n",
    "\n",
    "print(f\"{base} to the power of {exponent} is {power(base, exponent)}\")\n"
   ]
  },
  {
   "cell_type": "code",
   "execution_count": null,
   "id": "ea0f9450",
   "metadata": {},
   "outputs": [],
   "source": []
  }
 ],
 "metadata": {
  "kernelspec": {
   "display_name": "Python 3 (ipykernel)",
   "language": "python",
   "name": "python3"
  },
  "language_info": {
   "codemirror_mode": {
    "name": "ipython",
    "version": 3
   },
   "file_extension": ".py",
   "mimetype": "text/x-python",
   "name": "python",
   "nbconvert_exporter": "python",
   "pygments_lexer": "ipython3",
   "version": "3.9.13"
  }
 },
 "nbformat": 4,
 "nbformat_minor": 5
}
